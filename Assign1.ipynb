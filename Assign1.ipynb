{
 "cells": [
  {
   "cell_type": "code",
   "execution_count": 10,
   "metadata": {},
   "outputs": [],
   "source": [
    "import pandas as pd\n",
    "import matplotlib.pyplot as plt\n",
    "import numpy as np\n",
    "import math\n",
    "import seaborn as sns"
   ]
  },
  {
   "cell_type": "code",
   "execution_count": 3,
   "metadata": {},
   "outputs": [],
   "source": [
    "dataset = pd.read_csv('iris.csv')"
   ]
  },
  {
   "cell_type": "code",
   "execution_count": 4,
   "metadata": {},
   "outputs": [],
   "source": [
    "dataset.head()\n",
    "features = list(dataset.columns[1:5])\n",
    "number_of_features = int(len(features))"
   ]
  },
  {
   "cell_type": "code",
   "execution_count": 5,
   "metadata": {},
   "outputs": [
    {
     "name": "stdout",
     "output_type": "stream",
     "text": [
      "The number of features in dataset are 4\n"
     ]
    }
   ],
   "source": [
    "print(\"The number of features in dataset are\",number_of_features)"
   ]
  },
  {
   "cell_type": "code",
   "execution_count": 6,
   "metadata": {},
   "outputs": [
    {
     "name": "stdout",
     "output_type": "stream",
     "text": [
      "Sepal.Length   : Numeric\n",
      "Sepal.Width   : Numeric\n",
      "Petal.Length   : Numeric\n",
      "Petal.Width   : Numeric\n"
     ]
    }
   ],
   "source": [
    "for i in range(0,number_of_features):\n",
    "    if(dataset[features[i]].dtypes.name == \"float64\" or dataset[features[i]].dtypes.name == \"int64\"):\n",
    "        print(features[i],\"  : Numeric\")\n",
    "    else:\n",
    "        print(features[i],\"  : Numeric\")"
   ]
  },
  {
   "cell_type": "code",
   "execution_count": 7,
   "metadata": {},
   "outputs": [
    {
     "name": "stdout",
     "output_type": "stream",
     "text": [
      "For feature  Sepal.Length  :\n",
      "Minimum Value:  4.3\n",
      "Maximum Value:  7.9\n",
      "Mean Value:  5.843333333333335\n",
      "Range of values:  3.6000000000000005\n",
      "Variance:  6.5244555555555666\n",
      "Standard Deviation:  2.554301383070441\n",
      "For feature  Sepal.Width  :\n",
      "Minimum Value:  2.0\n",
      "Maximum Value:  4.4\n",
      "Mean Value:  3.057333333333334\n",
      "Range of values:  2.4000000000000004\n",
      "Variance:  3.2460462222222226\n",
      "Standard Deviation:  1.801678723363914\n",
      "For feature  Petal.Length  :\n",
      "Minimum Value:  1.0\n",
      "Maximum Value:  6.9\n",
      "Mean Value:  3.7580000000000027\n",
      "Range of values:  5.9\n",
      "Variance:  6.853502666666677\n",
      "Standard Deviation:  2.6179195302122404\n",
      "For feature  Petal.Width  :\n",
      "Minimum Value:  0.1\n",
      "Maximum Value:  2.5\n",
      "Mean Value:  1.199333333333334\n",
      "Range of values:  2.4\n",
      "Variance:  1.776466222222221\n",
      "Standard Deviation:  1.3328414092540122\n"
     ]
    }
   ],
   "source": [
    "total_number_of_examples = dataset.shape[0]\n",
    "#Now displaying summary of each feature i.e min, max, mean, range, variance, standard deviation, percentile\n",
    "\n",
    "for i in range(0,number_of_features):\n",
    "    feature_name = features[i]\n",
    "    min = dataset[features[i]][0]\n",
    "    max = dataset[features[i]][0]\n",
    "    sum = 0\n",
    "    \n",
    "    #Calculating min, max and mean\n",
    "    for j in dataset[features[i]]:\n",
    "        sum += j\n",
    "        if(j < min):\n",
    "            min = j\n",
    "            \n",
    "        if(j > max):\n",
    "            max = j\n",
    "    mean = sum/total_number_of_examples\n",
    "    range = max - min\n",
    "    #To calculate variance\n",
    "    for j in dataset[features[i]]:\n",
    "        sum += (j-mean)**2\n",
    "    \n",
    "    variance = sum/total_number_of_examples\n",
    "    standard_deviation = math.sqrt(variance)\n",
    "    print(\"For feature \",feature_name,\" :\")\n",
    "    print(\"Minimum Value: \",min)\n",
    "    print(\"Maximum Value: \",max)\n",
    "    print(\"Mean Value: \",mean)\n",
    "    print(\"Range of values: \",range)\n",
    "    print(\"Variance: \",variance)\n",
    "    print(\"Standard Deviation: \",standard_deviation)\n",
    "            \n",
    "    "
   ]
  },
  {
   "cell_type": "code",
   "execution_count": 17,
   "metadata": {},
   "outputs": [
    {
     "data": {
      "image/png": "[encoded data removed]",
      "text/plain": [
       "<Figure size 432x288 with 1 Axes>"
      ]
     },
     "metadata": {
      "needs_background": "light"
     },
     "output_type": "display_data"
    },
    {
     "data": {
      "image/png": "[encoded data removed]",
      "text/plain": [
       "<Figure size 432x288 with 1 Axes>"
      ]
     },
     "metadata": {
      "needs_background": "light"
     },
     "output_type": "display_data"
    },
    {
     "data": {
      "image/png": "[encoded data removed]",
      "text/plain": [
       "<Figure size 432x288 with 1 Axes>"
      ]
     },
     "metadata": {
      "needs_background": "light"
     },
     "output_type": "display_data"
    },
    {
     "data": {
      "image/png": "[encoded data removed]",
      "text/plain": [
       "<Figure size 432x288 with 1 Axes>"
      ]
     },
     "metadata": {
      "needs_background": "light"
     },
     "output_type": "display_data"
    }
   ],
   "source": [
    "#Drawing histogram for each feature\n",
    "    \n",
    "#Feature1\n",
    "plt.hist(dataset[features[0]],bins=30)\n",
    "plt.xlabel(\"SepalLengthCm\")\n",
    "plt.ylabel(\"Number Of times\")\n",
    "plt.show()\n",
    "\n",
    "#feature2\n",
    "plt.hist(dataset[features[1]],bins = 30)\n",
    "plt.xlabel(\"SepalWidthCm\")\n",
    "plt.ylabel(\"NumberOfTimes\")\n",
    "plt.show()\n",
    "\n",
    "#feature3\n",
    "plt.hist(dataset[features[2]],bins = 30)\n",
    "plt.xlabel(\"PetalLengthCm\")\n",
    "plt.ylabel(\"NumberOfTimes\")\n",
    "plt.show()\n",
    "\n",
    "#feature4\n",
    "plt.hist(dataset[features[3]],bins = 30)\n",
    "plt.xlabel(\"PetalWidthCm\")\n",
    "plt.ylabel(\"NumberOfTimes\")\n",
    "plt.show()"
   ]
  },
  {
   "cell_type": "code",
   "execution_count": 26,
   "metadata": {},
   "outputs": [
    {
     "data": {
      "text/plain": [
       "<matplotlib.axes._subplots.AxesSubplot at 0x1658db260f0>"
      ]
     },
     "execution_count": 26,
     "metadata": {},
     "output_type": "execute_result"
    },
    {
     "data": {
      "image/png": "[encoded data removed]",
      "text/plain": [
       "<Figure size 432x288 with 1 Axes>"
      ]
     },
     "metadata": {
      "needs_background": "light"
     },
     "output_type": "display_data"
    }
   ],
   "source": [
    "#Box plot for each feature\n",
    "#feature 1\n",
    "sns.boxplot(dataset[features[0]],color=\"Orange\")"
   ]
  },
  {
   "cell_type": "code",
   "execution_count": 22,
   "metadata": {},
   "outputs": [
    {
     "data": {
      "text/plain": [
       "<matplotlib.axes._subplots.AxesSubplot at 0x1658c0b8208>"
      ]
     },
     "execution_count": 22,
     "metadata": {},
     "output_type": "execute_result"
    },
    {
     "data": {
      "image/png": "[encoded data removed]",
      "text/plain": [
       "<Figure size 432x288 with 1 Axes>"
      ]
     },
     "metadata": {
      "needs_background": "light"
     },
     "output_type": "display_data"
    }
   ],
   "source": [
    "#feature 2\n",
    "sns.boxplot(dataset[features[1]],color=\"Yellow\")\n",
    "\n"
   ]
  },
  {
   "cell_type": "code",
   "execution_count": 23,
   "metadata": {},
   "outputs": [
    {
     "data": {
      "text/plain": [
       "<matplotlib.axes._subplots.AxesSubplot at 0x1658db77780>"
      ]
     },
     "execution_count": 23,
     "metadata": {},
     "output_type": "execute_result"
    },
    {
     "data": {
      "image/png": "[encoded data removed]",
      "text/plain": [
       "<Figure size 432x288 with 1 Axes>"
      ]
     },
     "metadata": {
      "needs_background": "light"
     },
     "output_type": "display_data"
    }
   ],
   "source": [
    "#feature 3\n",
    "sns.boxplot(dataset[features[2]],color=\"Red\")"
   ]
  },
  {
   "cell_type": "code",
   "execution_count": 33,
   "metadata": {},
   "outputs": [
    {
     "data": {
      "text/plain": [
       "<matplotlib.axes._subplots.AxesSubplot at 0x1658debc6a0>"
      ]
     },
     "execution_count": 33,
     "metadata": {},
     "output_type": "execute_result"
    },
    {
     "data": {
      "image/png": "[encoded data removed]",
      "text/plain": [
       "<Figure size 432x288 with 1 Axes>"
      ]
     },
     "metadata": {
      "needs_background": "light"
     },
     "output_type": "display_data"
    }
   ],
   "source": [
    "#feature 4\n",
    "sns.boxplot(dataset[features[3]],color=\"Green\")"
   ]
  },
  {
   "cell_type": "code",
   "execution_count": 34,
   "metadata": {},
   "outputs": [
    {
     "data": {
      "text/plain": [
       "<matplotlib.axes._subplots.AxesSubplot at 0x1658da109e8>"
      ]
     },
     "execution_count": 34,
     "metadata": {},
     "output_type": "execute_result"
    },
    {
     "data": {
      "image/png": "[encoded data removed]",
      "text/plain": [
       "<Figure size 432x288 with 1 Axes>"
      ]
     },
     "metadata": {
      "needs_background": "light"
     },
     "output_type": "display_data"
    }
   ],
   "source": [
    "#All boxplot combined in one\n",
    "sns.boxplot(x=dataset['Species'],y = dataset[features[0]])"
   ]
  },
  {
   "cell_type": "code",
   "execution_count": 35,
   "metadata": {},
   "outputs": [
    {
     "data": {
      "text/plain": [
       "<matplotlib.axes._subplots.AxesSubplot at 0x1658ddb1e10>"
      ]
     },
     "execution_count": 35,
     "metadata": {},
     "output_type": "execute_result"
    },
    {
     "data": {
      "image/png": "[encoded data removed]",
      "text/plain": [
       "<Figure size 432x288 with 1 Axes>"
      ]
     },
     "metadata": {
      "needs_background": "light"
     },
     "output_type": "display_data"
    }
   ],
   "source": [
    "sns.boxplot(x= dataset['Species'],y = dataset[features[1]])"
   ]
  },
  {
   "cell_type": "code",
   "execution_count": 36,
   "metadata": {},
   "outputs": [
    {
     "data": {
      "text/plain": [
       "<matplotlib.axes._subplots.AxesSubplot at 0x1658dc604e0>"
      ]
     },
     "execution_count": 36,
     "metadata": {},
     "output_type": "execute_result"
    },
    {
     "data": {
      "image/png": "[encoded data removed]",
      "text/plain": [
       "<Figure size 432x288 with 1 Axes>"
      ]
     },
     "metadata": {
      "needs_background": "light"
     },
     "output_type": "display_data"
    }
   ],
   "source": [
    "sns.boxplot(x = dataset['Species'],y = dataset[features[2]])"
   ]
  },
  {
   "cell_type": "code",
   "execution_count": null,
   "metadata": {},
   "outputs": [],
   "source": [
    "####################DONE#####################"
   ]
  }
 ],
 "metadata": {
  "kernelspec": {
   "display_name": "Python 3",
   "language": "python",
   "name": "python3"
  },
  "language_info": {
   "codemirror_mode": {
    "name": "ipython",
    "version": 3
   },
   "file_extension": ".py",
   "mimetype": "text/x-python",
   "name": "python",
   "nbconvert_exporter": "python",
   "pygments_lexer": "ipython3",
   "version": "3.7.3"
  }
 },
 "nbformat": 4,
 "nbformat_minor": 2
}
